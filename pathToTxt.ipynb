{
 "cells": [
  {
   "cell_type": "code",
   "execution_count": 1,
   "id": "7613f1b0",
   "metadata": {},
   "outputs": [],
   "source": [
    "import os\n"
   ]
  },
  {
   "cell_type": "code",
   "execution_count": 3,
   "id": "56e786b4",
   "metadata": {},
   "outputs": [],
   "source": [
    "# Path to the directory containing your dataset\n",
    "dataset_img_path = \"Dataset/Images/\"\n",
    "\n",
    "# Path to the text file that will contain the image paths\n",
    "output_file = \"path_img.txt\"\n",
    "\n",
    "# Open the output file for writing\n",
    "with open(output_file, \"w\") as f:\n",
    "    # Loop over all files in the dataset directory\n",
    "    for root, dirs, files in os.walk(dataset_img_path):\n",
    "        for file in files:\n",
    "            # Check if the file is an image file\n",
    "            if file.endswith(\".jpg\"):\n",
    "                # Write the path to the file to the output file\n",
    "                f.write(os.path.join(root, file) + \"\\n\")"
   ]
  },
  {
   "cell_type": "code",
   "execution_count": null,
   "id": "87c6166c",
   "metadata": {},
   "outputs": [],
   "source": [
    "# Path to the directory containing your dataset\n",
    "dataset_pdf_path = \"Dataset/PDFs/\"\n",
    "\n",
    "# Path to the text file that will contain the image paths\n",
    "output_file = \"path_pdf.txt\"\n",
    "\n",
    "# Open the output file for writing\n",
    "with open(output_file, \"w\") as f:\n",
    "    # Loop over all files in the dataset directory\n",
    "    for root, dirs, files in os.walk(dataset_pdf_path):\n",
    "        for file in files:\n",
    "            # Check if the file is an image file\n",
    "            if file.endswith(\".pdf\"):\n",
    "                # Write the path to the file to the output file\n",
    "                f.write(os.path.join(root, file) + \"\\n\")"
   ]
  }
 ],
 "metadata": {
  "kernelspec": {
   "display_name": "Python 3 (ipykernel)",
   "language": "python",
   "name": "python3"
  },
  "language_info": {
   "codemirror_mode": {
    "name": "ipython",
    "version": 3
   },
   "file_extension": ".py",
   "mimetype": "text/x-python",
   "name": "python",
   "nbconvert_exporter": "python",
   "pygments_lexer": "ipython3",
   "version": "3.11.3"
  }
 },
 "nbformat": 4,
 "nbformat_minor": 5
}
